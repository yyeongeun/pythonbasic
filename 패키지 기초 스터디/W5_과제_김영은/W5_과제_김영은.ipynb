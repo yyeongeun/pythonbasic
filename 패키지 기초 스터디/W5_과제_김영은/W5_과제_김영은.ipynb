{
 "cells": [
  {
   "cell_type": "markdown",
   "metadata": {},
   "source": [
    "# W5 시각화 스터디_과제_김영은"
   ]
  },
  {
   "cell_type": "code",
   "execution_count": 1,
   "metadata": {},
   "outputs": [],
   "source": [
    "import requests\n",
    "from bs4 import BeautifulSoup\n",
    "from selenium import webdriver\n",
    "from selenium.webdriver.common.keys import Keys\n",
    "from time import sleep\n",
    "import time\n",
    "import pandas as pd\n",
    "import ssl\n",
    "\n",
    "from urllib.request import urlopen\n",
    "from urllib.parse import quote_plus"
   ]
  },
  {
   "cell_type": "markdown",
   "metadata": {},
   "source": [
    "## 1. 네이버 인물정보 크롤링\n",
    "https://rladuddms.tistory.com/65\n",
    "\n",
    "크롤링 수업 듣고 예전에 혼자 실습해본 내용입니다.\n",
    "과제로 같이 첨부합니다 ㅎㅎ\n",
    "좋아요와 구독은 사랑입니다 ♡"
   ]
  },
  {
   "cell_type": "markdown",
   "metadata": {},
   "source": [
    "## 2. 인스타그램계정 입력후 이미지 크롤링\n",
    "### 2.1. 로그인까지"
   ]
  },
  {
   "cell_type": "code",
   "execution_count": 5,
   "metadata": {},
   "outputs": [],
   "source": [
    "def insta_searching(word):\n",
    "    url = \"https://www.instagram.com/explore/tags/\" + word\n",
    "    return url\n",
    "\n",
    "from selenium import webdriver\n",
    "\n",
    "#options = webdriver.ChromeOptions()\n",
    "#options.add_argument('headless')\n",
    "#options.add_argument('window-size=1920x1080')\n",
    "#options.add_argument(\"disable-gpu\")\n",
    "# 혹은 options.add_argument(\"--disable-gpu\")\n",
    "\n",
    "\n",
    "driver = webdriver.Chrome(\"C:/Users/yeongeunkim/Desktop/github/boazhappy repository/16기 분석/210208 공동세션_크롤링/chromedriver_win32/chromedriver.exe\")\n",
    "\n",
    "import time\n",
    "\n",
    "#인스타 접속, \n",
    "driver.get('https://www.instargram.com')\n",
    "driver.find_element_by_xpath('//*[@id=\"details-button\"]').click()\n",
    "driver.find_element_by_xpath('//*[@id=\"proceed-link\"]').click()\n",
    "time.sleep(5) #시간을 넉넉히 설정합니다.\n",
    "\n",
    "#로그인에 필요한 사항을 브라우저 제어를통해 입력합니다.\n",
    "email = 'ansdlf201567@gmail.com'   ### 사용할 계정 정보 입력\n",
    "input_id = driver.find_elements_by_css_selector('input._2hvTZ.pexuQ.zyHYP')[0]\n",
    "input_id.clear()\n",
    "input_id.send_keys(email)\n",
    "\n",
    "password = 'kye4192128,' ### 비번 정보 수정\n",
    "input_pw = driver.find_elements_by_css_selector('input._2hvTZ.pexuQ.zyHYP')[1]\n",
    "input_pw.clear()\n",
    "input_pw.send_keys(password)\n",
    "input_pw.submit()"
   ]
  },
  {
   "cell_type": "markdown",
   "metadata": {},
   "source": [
    "### 2.2 아이디 검색 후 이미지 크롤링 + 폴더 안에 저장하기\n",
    "\n",
    "nct 정재현 계정(@_jeongjaehyun)의 이미지 다 가져오기\n",
    "\n",
    "\n",
    "참고링크\n",
    "https://j-ungry.tistory.com/100\n",
    "\n",
    "https://kimflstudio.tistory.com/entry/%ED%8C%8C%EC%9D%B4%EC%8D%AC-%EC%9D%B8%EC%8A%A4%ED%83%80%EA%B7%B8%EB%9E%A8-%ED%81%AC%EB%A1%A4%EB%A7%81-%EC%9D%B4%EB%AF%B8%EC%A7%80-%EB%8B%A4%EC%9A%B4%EB%A1%9C%EB%93%9C-beautifulsoup-selenium-%EC%82%AC%EC%9A%A9%EB%B2%95\n"
   ]
  },
  {
   "cell_type": "code",
   "execution_count": 3,
   "metadata": {
    "scrolled": false
   },
   "outputs": [
    {
     "name": "stdout",
     "output_type": "stream",
     "text": [
      "input Instagram ID : _jeongjaehyun\n",
      "https://www.instagram.com/p/CLmCArDFmUf/\n",
      "https://scontent-ssn1-1.cdninstagram.com/v/t51.2885-15/sh0.08/e35/c0.180.1440.1440a/s640x640/152400380_464806454655057_881970646594545953_n.jpg?_nc_ht=scontent-ssn1-1.cdninstagram.com&_nc_cat=1&_nc_ohc=bhdWsSEirEkAX9MJLFh&tp=1&oh=9a1fa8c4d71e9effc71ada8edf9a5e72&oe=6061E6EE\n",
      "\n",
      "https://www.instagram.com/p/CLjZoz7lgRr/\n",
      "https://scontent-ssn1-1.cdninstagram.com/v/t51.2885-15/sh0.08/e35/c0.180.1440.1440a/s640x640/152779540_868377890387809_5689521086823310939_n.jpg?_nc_ht=scontent-ssn1-1.cdninstagram.com&_nc_cat=1&_nc_ohc=Mdj26rc7K-8AX9S0FHv&tp=1&oh=b624f5b4c56fb315d0a8276047bb2bff&oe=6062F1D7\n",
      "\n",
      "https://www.instagram.com/p/CLRAoX2FPNR/\n",
      "https://scontent-ssn1-1.cdninstagram.com/v/t51.2885-15/sh0.08/e35/c0.180.1440.1440a/s640x640/149990916_235613498228828_5211980632351923674_n.jpg?_nc_ht=scontent-ssn1-1.cdninstagram.com&_nc_cat=1&_nc_ohc=5sa1lj3qX2AAX_LrpXs&tp=1&oh=c65d81b82b2c9ac9c6694022e2a268e6&oe=6061ED0D\n",
      "\n",
      "https://www.instagram.com/p/CK0YvB-H0Gb/\n",
      "https://scontent-ssn1-1.cdninstagram.com/v/t51.2885-15/sh0.08/e35/c0.90.720.720a/s640x640/145182603_452187142624895_4223956770297866673_n.jpg?_nc_ht=scontent-ssn1-1.cdninstagram.com&_nc_cat=111&_nc_ohc=4u0_WKglbL8AX_0YABy&tp=1&oh=536951f2544195fedde59045a89418b0&oe=603B5FC3\n",
      "\n",
      "https://www.instagram.com/p/CJnjO3olrda/\n",
      "https://scontent-ssn1-1.cdninstagram.com/v/t51.2885-15/sh0.08/e35/c0.180.1440.1440a/s640x640/135330899_267008051429948_854341129084670704_n.jpg?_nc_ht=scontent-ssn1-1.cdninstagram.com&_nc_cat=1&_nc_ohc=NL1RfDzQ0McAX83uS9-&tp=1&oh=2e1206caee1b51435f480eb823cd3a74&oe=60646636\n",
      "\n",
      "https://www.instagram.com/p/CJfgr2JFtEt/\n",
      "https://scontent-ssn1-1.cdninstagram.com/v/t51.2885-15/sh0.08/e35/c0.180.1440.1440a/s640x640/135653274_2802609009957717_5229073051403628342_n.jpg?_nc_ht=scontent-ssn1-1.cdninstagram.com&_nc_cat=1&_nc_ohc=yxBPInIflSYAX--xVcn&tp=1&oh=e42ee92ad53245675e6595ce72f0ef02&oe=6060B398\n",
      "\n",
      "https://www.instagram.com/p/CJfglcHliXs/\n",
      "https://scontent-ssn1-1.cdninstagram.com/v/t51.2885-15/sh0.08/e35/c0.180.1440.1440a/s640x640/134543858_227594678849067_8856847611630615386_n.jpg?_nc_ht=scontent-ssn1-1.cdninstagram.com&_nc_cat=1&_nc_ohc=GBdC2hpQl_oAX87x3uR&tp=1&oh=67c7ef27ca9335e453158d8347ab567f&oe=60634BCC\n",
      "\n",
      "https://www.instagram.com/p/CJNWsCEl4nP/\n",
      "https://scontent-ssn1-1.cdninstagram.com/v/t51.2885-15/sh0.08/e35/c0.180.1440.1440a/s640x640/132279405_712053576390522_1013172845418973952_n.jpg?_nc_ht=scontent-ssn1-1.cdninstagram.com&_nc_cat=1&_nc_ohc=SVQGe6Na9AYAX8w7xBV&tp=1&oh=6229ee4a7b245a37b2af48700aa4685f&oe=60631314\n",
      "\n"
     ]
    }
   ],
   "source": [
    "baseUrl = 'http://www.instagram.com/'\n",
    "plusUrl = input(\"input Instagram ID : \")\n",
    "newurl = baseUrl + quote_plus(plusUrl)\n",
    "\n",
    "driver.get(newurl)\n",
    "\n",
    "time.sleep(3) #여기서 3초를 기다린 다음에 아래꺼를 실행\n",
    " \n",
    "html = driver.page_source #driver의 페이지 소스를 가져와서 html 에 담음\n",
    "soup = BeautifulSoup(html)\n",
    "\n",
    "insta = soup.select('.v1Nh3.kIKUG._bz0w') #이미지 파일이 들어있는 클래스(.으로 구분해준다)\n",
    "\n",
    "n = 1\n",
    "for i in insta:\n",
    "    print('https://www.instagram.com'+ i.a['href']) #누르면 나오는 주소\n",
    "    imgUrl = i.select_one('.KL4Bh').img['src'] #이미지가 들어있는 태그의 실질적 img\n",
    "    \n",
    "    with urlopen(imgUrl) as f:\n",
    "        #insta_image 폴더생성 후 폴더 안에 저장하기\n",
    "        with open('./insta_image/' + plusUrl + str(n) + '.jpg', 'wb') as h:\n",
    "            img = f.read()\n",
    "            h.write(img)\n",
    "    n += 1\n",
    "    print(imgUrl)\n",
    "    print()\n",
    "\n",
    "driver.close()\n",
    "\n",
    "#<div class=\"KL4Bh\" style=\"padding-bottom: 125%;\"><img alt=\"Photo shared by Jaehyun on February 22, 2021 tagging @burberry, and @riccardotisci17. May be an image of 1 person and indoor.\" class=\"FFVAD\" decoding=\"auto\" style=\"object-fit: cover;\" sizes=\"338.09375px\" \n",
    "#srcset=\"https://scontent-ssn1-1.cdninstagram.com/v/t51.2885-15/sh0.08/e35/p640x640/152400380_464806454655057_881970646594545953_n.jpg?_nc_ht=scontent-ssn1-1.cdninstagram.com&amp;_nc_cat=1&amp;_nc_ohc=bhdWsSEirEkAX9MJLFh&amp;tp=1&amp;oh=f508b5b10bd191b239904770d81c4965&amp;oe=6060BA9C 640w,https://scontent-ssn1-1.cdninstagram.com/v/t51.2885-15/sh0.08/e35/p750x750/152400380_464806454655057_881970646594545953_n.jpg?_nc_ht=scontent-ssn1-1.cdninstagram.com&amp;_nc_cat=1&amp;_nc_ohc=bhdWsSEirEkAX9MJLFh&amp;tp=1&amp;oh=bca090f5a857e2e4a5a4798bd4af04f8&amp;oe=6064149C 750w,https://scontent-ssn1-1.cdninstagram.com/v/t51.2885-15/e35/p1080x1080/152400380_464806454655057_881970646594545953_n.jpg?_nc_ht=scontent-ssn1-1.cdninstagram.com&amp;_nc_cat=1&amp;_nc_ohc=bhdWsSEirEkAX9MJLFh&amp;tp=1&amp;oh=41f538fd4d98d6bd325dc898fdbd1161&amp;oe=606367FF 1080w\" src=\"https://scontent-ssn1-1.cdninstagram.com/v/t51.2885-15/e35/p1080x1080/152400380_464806454655057_881970646594545953_n.jpg?_nc_ht=scontent-ssn1-1.cdninstagram.com&amp;_nc_cat=1&amp;_nc_ohc=bhdWsSEirEkAX9MJLFh&amp;tp=1&amp;oh=41f538fd4d98d6bd325dc898fdbd1161&amp;oe=606367FF\">\n",
    "#</div>\n"
   ]
  },
  {
   "cell_type": "markdown",
   "metadata": {},
   "source": [
    "### 2.3 해쉬태그 \"건대맛집\" 검색 후 content 뽑기"
   ]
  },
  {
   "cell_type": "code",
   "execution_count": 6,
   "metadata": {},
   "outputs": [],
   "source": [
    "time.sleep(3)\n",
    "word = \"건대맛집\" #검색할 해시태그. 띄어쓰기를 사용하면 안됩니다\n",
    "url = insta_searching(word)\n",
    "driver.get(url)\n",
    "time.sleep(2)\n",
    "\n",
    "#첫게시물을 여는 함수를 정의합니다\n",
    "def select_first(driver):\n",
    "    first = driver.find_element_by_css_selector(\"div._9AhH0\")\n",
    "    first.click()\n",
    "    time.sleep(3)\n",
    "\n",
    "\n",
    "import re\n",
    "from bs4 import BeautifulSoup\n",
    "\n",
    "#내용을 가져오는 함수를 정의합니다.\n",
    "def get_content(driver):\n",
    "    \n",
    "    html = driver.page_source\n",
    "    soup = BeautifulSoup(html, 'lxml')\n",
    "    \n",
    "\n",
    "    try:\n",
    "        content = soup.select('div.C4VMK > span')[0].text\n",
    "    except:\n",
    "        content = ' '\n",
    "    # 정규표현식을 활용하여 해시태그를 가져옵니다.\n",
    "    tags = re.findall(r'#[^\\s#,\\\\]+', content)  \n",
    "    # 작성일자를 가져옵니다.\n",
    "    date = soup.select('time._1o9PC.Nzb55')[0]['datetime'][:10]\n",
    "    # 좋아요 수를 가져옵니다.\n",
    "    try:\n",
    "        like = soup.select('a.zV_Nj')[0].text[4:-1]   \n",
    "    except:\n",
    "        like = 0\n",
    "    # 위치정보를 가져옵니다.\n",
    "    try: \n",
    "        place = soup.select('div.M30cS')[0].text\n",
    "    except:\n",
    "        place = ''\n",
    "    # 수집한 정보를 리스트로 저장합니다.\n",
    "    data = [content, date, like, place, tags]\n",
    "    return data\n",
    "\n",
    "\n",
    "\n",
    "\n",
    "#다음게시글을 여는 함수를 정의합니다.\n",
    "def move_next(driver):\n",
    "\n",
    "    right = driver.find_element_by_css_selector ('a.coreSpriteRightPaginationArrow')\n",
    "    right.click()\n",
    "    time.sleep(3)\n",
    "\n",
    "\n",
    "#함수를 차례대로 실행합니다.\n",
    "select_first(driver)\n",
    "results = [ ]\n",
    "target = 5    # 크롤링할 게시글 수\n",
    "for i in range(target):\n",
    "    # 게시글 수집에 오류 발생시 2초 대기후 다음글로 넘어갑니다.\n",
    "    try:\n",
    "        data = get_content(driver)    # 게시글 정보 가져오기\n",
    "        results.append(data)\n",
    "        move_next(driver)\n",
    "    except:\n",
    "        time.sleep(2)\n",
    "        move_next(driver)\n",
    "    "
   ]
  },
  {
   "cell_type": "code",
   "execution_count": 8,
   "metadata": {},
   "outputs": [
    {
     "name": "stdout",
     "output_type": "stream",
     "text": [
      "[['내가 찐으로 인정하는 맛집인데⭐️갓성비⭐️ 에 맛까지 무릎을 탁 꿇엇슴니닫😇특히 파스타, 크림소스함박, 피자 아쥬 난리나여🙊 새 모이만큼 먹는 사람도 여기 데려가면 아주 코박고 먹는다구여ㅋㅋㅋㅋ지인들 데려가서 단 한번도 실패한적 엄는 집😚가격은 착한데 재료는 아낌없이 부어버린거 솔지키 넘 티나요~#치즈품은살리스버리스테이크 는 함박+치즈+노른자 합쳐져서 존맛탱92!!함박에 밥 비벼먹구싶을 정도루 고기와 쏘쓰가 dog맛있음😱고기가 렬루 부드럽구 안에 치즈가 들어이써 더 고소하고 짭쪼름하닷ㅠㅜㅜㅜ빠네 크림소스는 불맛나서 ㅂㄹ 안 늒이하고 보통 먹던 크림소스와는 완져니 차/원/이 다른 깊은 맛이 나서 신긔함🙊~~~ 지짜 소쓰자뤠 여기,,국물파스타는 오장육부를 풀어주는 어어얼큰한맛에 없던 숙취도 풀어주고요??제일 킬링뽀인트는!! 1인1메뉴를 시키면 시그니처 ⭐️고르곤졸라 화덕핏짜⭐️를 준다는거!!!도우가 쫄깃쫄기잇하고 화덕에서 갓 구운 피자라 지짜 미치는데 이게 서비스라는 갓성비 클라쓰..😇✔️건대 #민벅✔️치즈품은 살리스버리 스테이크 12,900 미트소스 크림함박 빠네 14,900 깔조네 피자 15,900 비프스테이크 크림파스타 13,900✔️서울 광진구 능동로13길 39 한아름쇼핑센타✔️매일 11:30-23:30🔍#무드_건대 (더 많은 맛집리스트는 클릭) #먹스타그램 #먹스타 #맛집 #맛스타 #맛스타그램 #건대맛집 #서울숲맛집 #성수동맛집 #건대역맛집 #연남동맛집 #홍대맛집 #파스타맛집 #피자맛집 #건대술집 #건대데이트', '2021-02-18', '2,676', '', ['#치즈품은살리스버리스테이크', '#민벅✔️치즈품은', '#무드_건대', '#먹스타그램', '#먹스타', '#맛집', '#맛스타', '#맛스타그램', '#건대맛집', '#서울숲맛집', '#성수동맛집', '#건대역맛집', '#연남동맛집', '#홍대맛집', '#파스타맛집', '#피자맛집', '#건대술집', '#건대데이트']], ['#영동교집 #냉삼맛집 🐽제주도 흑돼지가 냉삼으로 있다고 해서 먹으러 총총!!! 삼겹살 올리고 후추후추 뿌려주고 곁들여 져있는 꽈리랑 미나리 감싸서 멜젓에 콕! 찍어 먹어주면 느낌알죠 여러분?😉 냉삼인데 얇지않고 씹는 맛 있어서 넘 좋아요!! 멜젓에는 마늘, 청양고추까지 들어있어서 비린맛도 없고 감칠맛과 함께 매콤하게 먹기 가넝한~ 메뉴 고민되게 다 맛있음!!(°▽°)냉삼이랑 #팔도비빔면 싸먹는거 보셨죠ㅋㅋㅋㅋ진심 반칙. 짱맛탱.  #청국장 과 #순두부찌개 도 필수인데 계란후라이 얹어 나오는 공기밥에 촥촥 올려서 와-앙 하면 진짜 후우우~ 넘 맛있어요. 한식파인 베리는 넘 햄볶.. 또 할 말이 많은데 #돼지껍데기 는 무조건 시켜주세요.. 돼껍 위에 고추도 송송 썰어져있고 쫀독함은 기본에 간장양념 같은데 불맛까지 추가되니까 눈이 자동으로 띠요옹👀 #돼지꼬랑지 도 특이해서 먹어봤는데 작은족발 뜯는느낌?ㅋㅋㅋㅋ안주로 좋을 듯 하지만 저는 고기나 껍데기를 더 먹겠어효!!!!! 냉삼은 앞으로 무조건 여기 갈래융\\U0001f9a6 🏪 : 영동교집 청담직영점(서울 강남구 선릉로148길 11)💵 : 제주산 흑돼지삼겹살(17,000원) 제주산 삼겹살, 장미항정(13,000원) 통벌집껍데기(10,000원) 돼지꼬랑지(12,000원) 순두부, 청국장(7,000원) 팔도비빔면(4,000원)베리점수 : 🍓🍓🍓🍓.🖐🏼(1개 엥 2개 그냥 3점 오 먹어봐 4점 짱맛 5점 묻지마짱맛)#제품협찬 #냉삼 #흑돼지 #청담맛집 #제주도흑돼지#냉동삼겹살 #껍데기 #삼겹살맛집 #서울냉삼맛집', '2021-02-25', '2,610', '영동교집 청담직영점', ['#영동교집', '#냉삼맛집', '#팔도비빔면', '#청국장', '#순두부찌개', '#돼지껍데기', '#돼지꼬랑지', '#제품협찬', '#냉삼', '#흑돼지', '#청담맛집', '#제주도흑돼지', '#냉동삼겹살', '#껍데기', '#삼겹살맛집', '#서울냉삼맛집']], ['황제의 식사파스타 먹고시퍼서 꺼내본 내 맛집리스트파슽하와 가츠산도가 일품이라는 말을 마니 들어서 내 맘 속 저장-♥ 해뒀다가 가보앗다!!결론부터 말하자면 #대즘트 아주 거하게 먹어서 이 날의 황제는 나였다😇원래 스텤크를 엄청 조아하지 안아서 점수를 짜게 주는디,,여기는... 쌍코피 흘리며 따봉 나왔다스테이크 결이 진~~~쯔아 부드러워 살치살답게 살~~~살살 녹아브리고(뻑뻑한건 스테이쿠로 안 쳐줌)짭짤하면서 풍미깊은 간이 진짜 미춌다ㅠ 라는 생각바께,,, 먼가 평범한 스텤크랑 다르게 특별한 간이 느껴짐🙊그냥 먹어두 아~~~주 마싯지만 매쉬드포테토 크림이랑 바질페스토 올려먹으니 정신 차리고보니 순삭,,, 마지막 한 점이 아쉬웠ㅠㅠㅠ,,,글고 가츠산도 맛이 사기였다 ;ㅅ;와우,,, 고기와 빵 사이 소스가 단짠단짠 쩌는게ㅠ옛날에 느끼하기만 했던 가츠산도에게 받은 상처가 다 씻겨내려가도라~~~🐥명란오일파스타도 지짜 사랑스런 맛이었다;✔️서울숲 #여음✔️서울 성동구 서울숲4길 26-24 ✔️명란오일파스타 16,000 가츠산도 9,500 우니파스타 19,000 하우스스테이크 27,000✔️평일 12:00-15:00, 17:00-21:00주말 12:00-20:00 (브레이크x)🔍#무드_성수동서울숲 (더 많은 맛집리스트는 클릭) #먹스타그램 #먹스타 #맛스타 #맛스타그램 #성수동맛집 #고기스타그램 #서울숲맛집 #koreanfood #건대맛집 #스테이크맛집', '2021-02-24', '1,738', '', ['#대즘트', '#여음✔️서울', '#무드_성수동서울숲', '#먹스타그램', '#먹스타', '#맛스타', '#맛스타그램', '#성수동맛집', '#고기스타그램', '#서울숲맛집', '#koreanfood', '#건대맛집', '#스테이크맛집']], ['(광고) 드디어 스테이터가 건대로!스테이크 (2인 기준) 주문시,그릴드베지터블+스파이시파스타+트러플 프라이즈+육회비빔밥 or 리코타치즈샐러드로 구성된 플래터가 나옵니다😆💕서로인 15,000와규 18,500드라이에이징 18,500스페셜컷 스테이크 19,500🤪 스테이크 사이즈는스몰과 레귤러 중에서 선택 가능 합니다!건대 스테이터😍 주소 : 서울 광진구 아차산로30길 26 CGV 건대 2층#건대맛집#건대입구맛집#건대입구역맛집#건대데이트#건대파스타#건대스테이크#건대존맛#건대맛집추천#건대맛집베스트#건대스테이터', '2021-02-23', 0, '', ['#건대맛집', '#건대입구맛집', '#건대입구역맛집', '#건대데이트', '#건대파스타', '#건대스테이크', '#건대존맛', '#건대맛집추천', '#건대맛집베스트', '#건대스테이터']], ['강남의 몽탄몽탄 뒤를 이을 곳이다우대갈비를 아직 못 영접해보셨다면,,우대갈비가 이런것이구나... 이곳에서 맛의 영역을 넓히고 새로운 천국을 맛볼수 있어여😇하 녹는다 녹아ㅠ안에가 진짜 부드러워성ㅠㅠㅠ한번 씹으면 결이 다 부드럼게 뭉개짐(ˊᵒ̴̶̷̤ ꇴ ᵒ̴̶̷̤ˋ)수제 간장소스 찍어먹음 레게노ㅠ;ㅠ;ㅠ전문 쉐프님이 자체 숙성고를 통해 고기를 숙성해서 맛이 달라여🥺나의 내장전투력 200% 높여주는 칼과 방패같다,,글고 이 곳의 묘기인 영원히 꺼지지 않는 계란찜에다오색찬란 철판볶음밥까지..각종 묘기의 새로운 천국을 맛보앗서요😇부뉘기가 엄청 고급져서 대접받는 느낌 한가득;먹고나니 웃음이 많아지고 힘이 나는게 몸보양한 너낌~~~?✔️압구정로데오 #더그릴630✔️꽃대갈비(2인분) 50,000 뼈세트(소양돼지) 110,000 폭탄치즈계란찜 10,000 듀록김치철판볶음 12,000✔️서울 강남구 선릉로148길 43 파시온310빌딩✔️평일 11:30-23:00 (브레이크 14:30~17:00)주말 13:00-22:30 (브레이크 15:30~17:00)🔍#무드_청담압구정 (더 많은 맛집리스트는 클릭) #청담맛집 #강남맛집 #압구정맛집 #압구정로데오맛집 #소고기맛집 #청담동맛집 #압구정술집 #압구정맛집추천', '2021-02-22', '2,083', '', ['#더그릴630✔️꽃대갈비(2인분)', '#무드_청담압구정', '#청담맛집', '#강남맛집', '#압구정맛집', '#압구정로데오맛집', '#소고기맛집', '#청담동맛집', '#압구정술집', '#압구정맛집추천']]]\n"
     ]
    }
   ],
   "source": [
    "#result 출력해보기\n",
    "print(results[:5])\n",
    "\n",
    "\n",
    "#데이터프레임 만들고 엑셀로 저장하기\n",
    "import pandas as pd\n",
    "\n",
    "results_df = pd.DataFrame(results)\n",
    "results_df.columns = ['content','data','like','place','tags']\n",
    "results_df.to_excel('W5_건대맛집_insta_crawling.xlsx', index=False) \n",
    "\n",
    "driver.close()"
   ]
  },
  {
   "cell_type": "code",
   "execution_count": null,
   "metadata": {},
   "outputs": [],
   "source": []
  }
 ],
 "metadata": {
  "kernelspec": {
   "display_name": "Python 3",
   "language": "python",
   "name": "python3"
  },
  "language_info": {
   "codemirror_mode": {
    "name": "ipython",
    "version": 3
   },
   "file_extension": ".py",
   "mimetype": "text/x-python",
   "name": "python",
   "nbconvert_exporter": "python",
   "pygments_lexer": "ipython3",
   "version": "3.7.3"
  }
 },
 "nbformat": 4,
 "nbformat_minor": 2
}
